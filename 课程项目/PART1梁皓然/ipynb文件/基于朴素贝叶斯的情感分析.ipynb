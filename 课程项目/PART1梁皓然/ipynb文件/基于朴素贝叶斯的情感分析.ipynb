{
 "cells": [
  {
   "cell_type": "markdown",
   "id": "2787e097",
   "metadata": {},
   "source": [
    "# <center>基于朴素贝叶斯的情感分析</center>"
   ]
  },
  {
   "cell_type": "markdown",
   "id": "28991f22",
   "metadata": {},
   "source": [
    "## 一、需求分析"
   ]
  },
  {
   "cell_type": "markdown",
   "id": "951763b7",
   "metadata": {},
   "source": [
    "* 背景：互联网外卖以服务、快捷为卖点，用户的评论与反馈对商家、平台都很重要。\n",
    "\n",
    "\n",
    "* 功能：本文根据数据中的评论，采用朴素贝叶斯算法来分析用户情感，将用户评论划分为“好评”，“差评”。\n",
    "\n",
    "\n",
    "* 数据来源：数据来自和鲸社区，[12k条外卖用户评价](https://www.kesci.com/mw/dataset/5e61feefb8dfce002d8031fa/content)。"
   ]
  },
  {
   "cell_type": "markdown",
   "id": "c7f145cb",
   "metadata": {},
   "source": [
    "## 二、设计"
   ]
  },
  {
   "cell_type": "markdown",
   "id": "7e032493",
   "metadata": {},
   "source": [
    "### 2.1 算法原理"
   ]
  },
  {
   "attachments": {
    "%E5%9B%BE%E7%89%871.jpg": {
     "image/jpeg": "[encoded data removed]"
    }
   },
   "cell_type": "markdown",
   "id": "ac64924d",
   "metadata": {},
   "source": [
    "#### 贝叶斯定理\n",
    "\n",
    "贝叶斯定理是一个计算条件概率的公式。通过已知概率计算未知的概率，比如我们记A的概率是P(A),B的概率是P(B),则P(A|B)表示观察到事件B发生时，事件A发生的概率，其数学表达式以及贝叶斯本人如下：\n",
    "\n",
    "![%E5%9B%BE%E7%89%871.jpg](attachment:%E5%9B%BE%E7%89%871.jpg)\n",
    "<center>图片不一定是贝叶斯本人:)</center>"
   ]
  },
  {
   "cell_type": "markdown",
   "id": "ddc1d449",
   "metadata": {},
   "source": [
    "### 朴素贝叶斯分类法\n",
    "\n",
    "朴素贝叶斯分类法是基于贝叶斯定理和特征条件独立假设的分类方法，它通过特征计算分类的概率，选取概率大的情况，是基于概率论的一种机器学习分类（监督学习）方法，被广泛应用于情感分类领域的分类器。\n",
    "朴素贝叶斯算法可以用一句话来概括：贝叶斯定理+条件独立假设。条件独立假设指的是：在解决分类问题时，会选取很多数据特征，为了降低计算复杂度，假设数据各个维度的特征相互独立。"
   ]
  },
  {
   "cell_type": "markdown",
   "id": "e44017ef",
   "metadata": {},
   "source": [
    "## 三、实现"
   ]
  },
  {
   "cell_type": "markdown",
   "id": "c915b8e8",
   "metadata": {},
   "source": [
    "* 标准库/扩展库的使用"
   ]
  },
  {
   "cell_type": "code",
   "execution_count": 5,
   "id": "58c67f18",
   "metadata": {
    "ExecuteTime": {
     "end_time": "2021-12-04T13:00:34.420061Z",
     "start_time": "2021-12-04T13:00:33.643876Z"
    }
   },
   "outputs": [],
   "source": [
    "from bayes import Bayes\n",
    "import jieba\n",
    "import pandas as pd\n",
    "from numpy import *"
   ]
  },
  {
   "cell_type": "markdown",
   "id": "69bf7224",
   "metadata": {},
   "source": [
    "1. 朴素贝叶斯模块并没有使用IPython官方库的bayes模块，而是使用GitHub用户stevewang0提供的替换库。下载地址：[MLInAction](https://github.com/stevewang0/MLInAction)。\n",
    "\n",
    "   **使用该库的原因是它比官方提供的库更为简洁，代码以及其能实现的功能非常明确，适合像我这种机器学习入门新手。**\n",
    "   \n",
    "   \n",
    "      （对该py文件我会在另一个Jupyter Notebook文档中详细说明，这一部分很关键，它是本文实现贝叶斯分类器的核心。）\n",
    "\n",
    "2. jieba库的使用在本小组创建的《文本挖掘基础知识》中文分词模块有详细说明，这里不再赘述。\n",
    "\n",
    "\n",
    "3. pandas的运用详情见一篇CSDN博客：[《import pandas as pd什么意思》](https://blog.csdn.net/weixin_39854681/article/details/110620569)。\n",
    "\n",
    "\n",
    "4. NumPy包的核心是ndarray对象。它封装了n维同类数组。很多运算是由编译过的代码来执行的，以此来提高效率。"
   ]
  },
  {
   "cell_type": "markdown",
   "id": "217e0359",
   "metadata": {},
   "source": [
    "* 分词"
   ]
  },
  {
   "cell_type": "code",
   "execution_count": 6,
   "id": "3a6b0037",
   "metadata": {
    "ExecuteTime": {
     "end_time": "2021-12-04T13:00:36.586551Z",
     "start_time": "2021-12-04T13:00:36.572565Z"
    }
   },
   "outputs": [],
   "source": [
    "# 1. 创建停用词list\n",
    "def stopwordslist(filepath):\n",
    "    stopwords = [line.strip() for line in open(filepath,'r',encoding='utf-8').readlines()]\n",
    "    return stopwords"
   ]
  },
  {
   "cell_type": "code",
   "execution_count": 7,
   "id": "9aa7d2bb",
   "metadata": {
    "ExecuteTime": {
     "end_time": "2021-12-04T13:00:38.670631Z",
     "start_time": "2021-12-04T13:00:38.664629Z"
    }
   },
   "outputs": [],
   "source": [
    "# 2. 对句子进行分词\n",
    "def wordCut(sentence):\n",
    "    words = jieba.cut(sentence.strip())\n",
    "    stopwords = stopwordslist('cn_stopwords.txt') # 这里加载停用词的路径\n",
    "    outstr = []\n",
    "    for word in words:\n",
    "        if word not in stopwords:\n",
    "            if word != '\\t':\n",
    "                outstr.append(word)\n",
    "    return outstr"
   ]
  },
  {
   "cell_type": "markdown",
   "id": "6bae52ad",
   "metadata": {},
   "source": [
    "* 构造词语列表"
   ]
  },
  {
   "cell_type": "code",
   "execution_count": 8,
   "id": "37682322",
   "metadata": {
    "ExecuteTime": {
     "end_time": "2021-12-04T13:00:40.672729Z",
     "start_time": "2021-12-04T13:00:40.658724Z"
    }
   },
   "outputs": [],
   "source": [
    "def DataHandle(filename,flag):\n",
    "    out = []\n",
    "    lines = pd.read_table(filename,header=None,encoding='utf-8',names=['评论'])\n",
    "    for line in lines['评论']:\n",
    "        line = str(line)\n",
    "        outStr = wordCut(line) # 这里的返回值是字符串\n",
    "        out.append(outStr)\n",
    "\n",
    "    if flag:\n",
    "        Vec = [1] * lines.shape[0]\n",
    "    else:\n",
    "        Vec = [0] * lines.shape[0]\n",
    "\n",
    "    return Vec, out"
   ]
  },
  {
   "cell_type": "markdown",
   "id": "bb7b3ad4",
   "metadata": {},
   "source": [
    "* 糅合好评与差评"
   ]
  },
  {
   "cell_type": "code",
   "execution_count": 9,
   "id": "89858ddb",
   "metadata": {
    "ExecuteTime": {
     "end_time": "2021-12-04T13:00:48.238521Z",
     "start_time": "2021-12-04T13:00:42.900398Z"
    }
   },
   "outputs": [
    {
     "name": "stderr",
     "output_type": "stream",
     "text": [
      "Building prefix dict from the default dictionary ...\n",
      "Loading model from cache C:\\Users\\liang\\AppData\\Local\\Temp\\jieba.cache\n",
      "Loading model cost 0.400 seconds.\n",
      "Prefix dict has been built successfully.\n"
     ]
    }
   ],
   "source": [
    "if __name__ == '__main__':\n",
    "    goodDataPath = 'good.txt'\n",
    "    badDataPath = 'bad.txt'\n",
    "\n",
    "    # 1 好评    0 差评\n",
    "    goodVec, goodList = DataHandle(goodDataPath, 1)\n",
    "    badVec, badList = DataHandle(badDataPath, 0)\n",
    "\n",
    "    listClasses = goodVec + badVec\n",
    "    listOPosts = goodList + badList"
   ]
  },
  {
   "cell_type": "markdown",
   "id": "18cf3066",
   "metadata": {},
   "source": [
    "* 构造词表\n",
    "  \n",
    "  获取训练集中所有不重复的词语构成列表"
   ]
  },
  {
   "cell_type": "code",
   "execution_count": 10,
   "id": "c529433d",
   "metadata": {
    "ExecuteTime": {
     "end_time": "2021-12-04T13:00:49.190751Z",
     "start_time": "2021-12-04T13:00:48.315542Z"
    }
   },
   "outputs": [],
   "source": [
    "myVocabList = Bayes.createVocabList(listOPosts)"
   ]
  },
  {
   "cell_type": "markdown",
   "id": "f73dd306",
   "metadata": {},
   "source": [
    "* 计算单词是否出现并创建数据矩阵"
   ]
  },
  {
   "cell_type": "code",
   "execution_count": 11,
   "id": "0b97503f",
   "metadata": {
    "ExecuteTime": {
     "end_time": "2021-12-04T13:01:06.060591Z",
     "start_time": "2021-12-04T13:00:49.255766Z"
    }
   },
   "outputs": [],
   "source": [
    "    trainMat = []\n",
    "    for postinDoc in listOPosts:\n",
    "        trainMat.append(Bayes.setOfWords2Vec(myVocabList, postinDoc))"
   ]
  },
  {
   "cell_type": "markdown",
   "id": "c65cc318",
   "metadata": {},
   "source": [
    "* 训练数据"
   ]
  },
  {
   "cell_type": "code",
   "execution_count": null,
   "id": "2b28a40d",
   "metadata": {
    "ExecuteTime": {
     "start_time": "2021-12-04T13:00:50.572Z"
    }
   },
   "outputs": [],
   "source": [
    "p0V, p1V, pAb = Bayes.trainNB0(array(trainMat), array(listClasses))"
   ]
  },
  {
   "cell_type": "markdown",
   "id": "065b41d8",
   "metadata": {},
   "source": [
    "* 测试数据"
   ]
  },
  {
   "cell_type": "code",
   "execution_count": null,
   "id": "c4d9ce0f",
   "metadata": {
    "ExecuteTime": {
     "start_time": "2021-11-12T02:56:49.878Z"
    },
    "scrolled": true
   },
   "outputs": [
    {
     "name": "stdout",
     "output_type": "stream",
     "text": [
      "请输入您对本商品的评价：服务挺不错的\n",
      "评价:  1\n",
      "请输入您对本商品的评价：个人觉得性价比很高\n",
      "评价:  1\n",
      "请输入您对本商品的评价：服务员态度非常恶劣\n",
      "评价:  0\n",
      "请输入您对本商品的评价：吃完就拉肚子，差评\n",
      "评价:  0\n"
     ]
    }
   ],
   "source": [
    "    while True:\n",
    "        inputS = input(u'请输入您对本商品的评价：')\n",
    "\n",
    "        testEntry = wordCut(inputS)\n",
    "        thisDoc = array(Bayes.setOfWords2Vec(myVocabList, testEntry))\n",
    "        print('评价: ', Bayes.classifyNB(thisDoc, p0V, p1V, pAb))"
   ]
  },
  {
   "cell_type": "markdown",
   "id": "12ecbb56",
   "metadata": {},
   "source": [
    "## 四、小结"
   ]
  },
  {
   "cell_type": "markdown",
   "id": "e666baa9",
   "metadata": {},
   "source": [
    "贝叶斯决策论在机器学习、模式识别等诸多关注数据分析的领域都有极为重要的地位.对贝叶斯定理进行近似求解,为机器学习算法的设计提供了一个有效途径.为避免贝叶斯定理求解时面临的组合爆炸、样本稀疏问题，朴素贝叶斯分类器引入了**属性条件独立性假设**.这个假设在现实应用中往往很难成立，但有趣的是，朴素贝叶斯分类器在很多情形下都能获得相当好的性能.一种解释是对分类任务来说，只需各类别的条件概率排序正确、无需精确概率值即可导致正确分类结果；另一种解释是，若属性间依赖对所有的类别影响相同，或依赖关系的影响能相互抵消，则属性条件独立性假设在降低计算开销的同时不会对性能产生负面影响.朴素贝叶斯分类器在信息检索领域尤为常用，比如文本分类，而文本分类就包括了情感分析.\n",
    "\n",
    "\n",
    "--\n",
    "\n",
    "节选自周克华《机器学习》（也名《西瓜书》）164页."
   ]
  }
 ],
 "metadata": {
  "kernelspec": {
   "display_name": "Python 3",
   "language": "python",
   "name": "python3"
  },
  "language_info": {
   "codemirror_mode": {
    "name": "ipython",
    "version": 3
   },
   "file_extension": ".py",
   "mimetype": "text/x-python",
   "name": "python",
   "nbconvert_exporter": "python",
   "pygments_lexer": "ipython3",
   "version": "3.8.8"
  },
  "toc": {
   "base_numbering": 1,
   "nav_menu": {},
   "number_sections": false,
   "sideBar": true,
   "skip_h1_title": false,
   "title_cell": "Table of Contents",
   "title_sidebar": "Contents",
   "toc_cell": false,
   "toc_position": {
    "height": "calc(100% - 180px)",
    "left": "10px",
    "top": "150px",
    "width": "165px"
   },
   "toc_section_display": true,
   "toc_window_display": true
  },
  "varInspector": {
   "cols": {
    "lenName": 16,
    "lenType": 16,
    "lenVar": 40
   },
   "kernels_config": {
    "python": {
     "delete_cmd_postfix": "",
     "delete_cmd_prefix": "del ",
     "library": "var_list.py",
     "varRefreshCmd": "print(var_dic_list())"
    },
    "r": {
     "delete_cmd_postfix": ") ",
     "delete_cmd_prefix": "rm(",
     "library": "var_list.r",
     "varRefreshCmd": "cat(var_dic_list()) "
    }
   },
   "types_to_exclude": [
    "module",
    "function",
    "builtin_function_or_method",
    "instance",
    "_Feature"
   ],
   "window_display": false
  }
 },
 "nbformat": 4,
 "nbformat_minor": 5
}
